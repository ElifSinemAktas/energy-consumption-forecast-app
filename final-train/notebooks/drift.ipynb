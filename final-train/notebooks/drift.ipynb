{
 "cells": [
  {
   "cell_type": "code",
   "execution_count": 1,
   "id": "785aa8d7-a304-4fa9-92fd-b5c7e658818f",
   "metadata": {},
   "outputs": [],
   "source": [
    "import os\n",
    "from datetime import datetime as dt\n",
    "from scipy.stats import ks_2samp\n",
    "import pandas as pd\n",
    "from dotenv import load_dotenv\n",
    "from sqlalchemy import create_engine # when use sqlmodel create_engine pandas gives error"
   ]
  },
  {
   "cell_type": "code",
   "execution_count": 2,
   "id": "9635d285-3727-4126-846a-e0576e126700",
   "metadata": {},
   "outputs": [],
   "source": [
    "def detect_drift(data1, data2):\n",
    "    ks_result = ks_2samp(data1, data2)\n",
    "    if ks_result.pvalue < 0.05:\n",
    "        return \"Drift exits\"\n",
    "    else:\n",
    "        return \"No drift\""
   ]
  },
  {
   "cell_type": "code",
   "execution_count": 3,
   "id": "fdc652fd-ea5f-4efb-bbe5-219fb29b5d6d",
   "metadata": {},
   "outputs": [
    {
     "name": "stdout",
     "output_type": "stream",
     "text": [
      "2023-06-20 10:32:05,298 INFO sqlalchemy.engine.Engine SELECT DATABASE()\n",
      "2023-06-20 10:32:05,301 INFO sqlalchemy.engine.Engine [raw sql] {}\n",
      "2023-06-20 10:32:05,305 INFO sqlalchemy.engine.Engine SELECT @@sql_mode\n",
      "2023-06-20 10:32:05,309 INFO sqlalchemy.engine.Engine [raw sql] {}\n",
      "2023-06-20 10:32:05,313 INFO sqlalchemy.engine.Engine SELECT @@lower_case_table_names\n",
      "2023-06-20 10:32:05,316 INFO sqlalchemy.engine.Engine [raw sql] {}\n",
      "2023-06-20 10:32:05,323 INFO sqlalchemy.engine.Engine SELECT COUNT(*) FROM information_schema.tables WHERE table_schema = %(table_schema)s AND table_name = %(table_name)s\n",
      "2023-06-20 10:32:05,324 INFO sqlalchemy.engine.Engine [generated in 0.00160s] {'table_schema': 'mlops', 'table_name': 'select * from trainconsumption'}\n",
      "2023-06-20 10:32:05,331 INFO sqlalchemy.engine.Engine select * from trainconsumption\n",
      "2023-06-20 10:32:05,333 INFO sqlalchemy.engine.Engine [raw sql] {}\n",
      "2023-06-20 10:32:05,551 INFO sqlalchemy.engine.Engine SELECT COUNT(*) FROM information_schema.tables WHERE table_schema = %(table_schema)s AND table_name = %(table_name)s\n",
      "2023-06-20 10:32:05,555 INFO sqlalchemy.engine.Engine [cached since 0.2323s ago] {'table_schema': 'mlops', 'table_name': 'select * from hourlyconsumption \\n                                where prediction_time >\\n                                current_date - 7'}\n",
      "2023-06-20 10:32:05,558 INFO sqlalchemy.engine.Engine select * from hourlyconsumption \n",
      "                                where prediction_time >\n",
      "                                current_date - 7\n",
      "2023-06-20 10:32:05,561 INFO sqlalchemy.engine.Engine [raw sql] {}\n",
      "2023-06-20 10:32:05,572 INFO sqlalchemy.engine.Engine SELECT COUNT(*) FROM information_schema.tables WHERE table_schema = %(table_schema)s AND table_name = %(table_name)s\n",
      "2023-06-20 10:32:05,575 INFO sqlalchemy.engine.Engine [cached since 0.2521s ago] {'table_schema': 'mlops', 'table_name': 'select * from dailyconsumption \\n                                where prediction_time >\\n                                current_date - 7'}\n",
      "2023-06-20 10:32:05,579 INFO sqlalchemy.engine.Engine select * from dailyconsumption \n",
      "                                where prediction_time >\n",
      "                                current_date - 7\n",
      "2023-06-20 10:32:05,582 INFO sqlalchemy.engine.Engine [raw sql] {}\n"
     ]
    }
   ],
   "source": [
    "load_dotenv()  # take environment variables from .env.\n",
    "SQLALCHEMY_DATABASE_URL = os.getenv('SQLALCHEMY_DATABASE_URL')\n",
    "\n",
    "engine = create_engine(SQLALCHEMY_DATABASE_URL, echo=True)\n",
    "\n",
    "train_df = pd.read_sql(\"select * from trainconsumption\", engine)\n",
    "\n",
    "prediction_hourly_df = pd.read_sql(f\"\"\"select * from hourlyconsumption \n",
    "                                where prediction_time >\n",
    "                                current_date - 7\"\"\", engine)\n",
    "\n",
    "prediction_daily_df = pd.read_sql(f\"\"\"select * from dailyconsumption \n",
    "                                where prediction_time >\n",
    "                                current_date - 7\"\"\", engine)\n"
   ]
  },
  {
   "cell_type": "code",
   "execution_count": 4,
   "id": "21d0d609-25c1-4ec8-a6f0-4e7dc0d522f2",
   "metadata": {},
   "outputs": [
    {
     "data": {
      "text/html": [
       "<div>\n",
       "<style scoped>\n",
       "    .dataframe tbody tr th:only-of-type {\n",
       "        vertical-align: middle;\n",
       "    }\n",
       "\n",
       "    .dataframe tbody tr th {\n",
       "        vertical-align: top;\n",
       "    }\n",
       "\n",
       "    .dataframe thead th {\n",
       "        text-align: right;\n",
       "    }\n",
       "</style>\n",
       "<table border=\"1\" class=\"dataframe\">\n",
       "  <thead>\n",
       "    <tr style=\"text-align: right;\">\n",
       "      <th></th>\n",
       "      <th>ID</th>\n",
       "      <th>YEAR</th>\n",
       "      <th>MONTH</th>\n",
       "      <th>DAY</th>\n",
       "      <th>CONSUMPTION</th>\n",
       "      <th>PREDICTION_TIME</th>\n",
       "      <th>CLIENT_IP</th>\n",
       "    </tr>\n",
       "  </thead>\n",
       "  <tbody>\n",
       "    <tr>\n",
       "      <th>0</th>\n",
       "      <td>1</td>\n",
       "      <td>2020</td>\n",
       "      <td>6</td>\n",
       "      <td>20</td>\n",
       "      <td>870.238</td>\n",
       "      <td>2023-06-19 10:40:37</td>\n",
       "      <td>testclient</td>\n",
       "    </tr>\n",
       "    <tr>\n",
       "      <th>1</th>\n",
       "      <td>2</td>\n",
       "      <td>2020</td>\n",
       "      <td>6</td>\n",
       "      <td>21</td>\n",
       "      <td>881.952</td>\n",
       "      <td>2023-06-19 10:40:37</td>\n",
       "      <td>testclient</td>\n",
       "    </tr>\n",
       "    <tr>\n",
       "      <th>2</th>\n",
       "      <td>3</td>\n",
       "      <td>2020</td>\n",
       "      <td>6</td>\n",
       "      <td>22</td>\n",
       "      <td>874.676</td>\n",
       "      <td>2023-06-19 10:40:37</td>\n",
       "      <td>testclient</td>\n",
       "    </tr>\n",
       "    <tr>\n",
       "      <th>3</th>\n",
       "      <td>4</td>\n",
       "      <td>2020</td>\n",
       "      <td>6</td>\n",
       "      <td>23</td>\n",
       "      <td>857.951</td>\n",
       "      <td>2023-06-19 10:40:37</td>\n",
       "      <td>testclient</td>\n",
       "    </tr>\n",
       "    <tr>\n",
       "      <th>4</th>\n",
       "      <td>5</td>\n",
       "      <td>2020</td>\n",
       "      <td>6</td>\n",
       "      <td>24</td>\n",
       "      <td>883.313</td>\n",
       "      <td>2023-06-19 10:40:37</td>\n",
       "      <td>testclient</td>\n",
       "    </tr>\n",
       "  </tbody>\n",
       "</table>\n",
       "</div>"
      ],
      "text/plain": [
       "   ID  YEAR  MONTH  DAY  CONSUMPTION     PREDICTION_TIME   CLIENT_IP\n",
       "0   1  2020      6   20      870.238 2023-06-19 10:40:37  testclient\n",
       "1   2  2020      6   21      881.952 2023-06-19 10:40:37  testclient\n",
       "2   3  2020      6   22      874.676 2023-06-19 10:40:37  testclient\n",
       "3   4  2020      6   23      857.951 2023-06-19 10:40:37  testclient\n",
       "4   5  2020      6   24      883.313 2023-06-19 10:40:37  testclient"
      ]
     },
     "execution_count": 4,
     "metadata": {},
     "output_type": "execute_result"
    }
   ],
   "source": [
    "prediction_daily_df.head()"
   ]
  },
  {
   "cell_type": "code",
   "execution_count": 5,
   "id": "9933cbca-d961-4a32-b580-9e8643a20039",
   "metadata": {},
   "outputs": [
    {
     "data": {
      "text/plain": [
       "Index(['ID', 'YEAR', 'MONTH', 'DAY', 'CONSUMPTION', 'PREDICTION_TIME',\n",
       "       'CLIENT_IP'],\n",
       "      dtype='object')"
      ]
     },
     "execution_count": 5,
     "metadata": {},
     "output_type": "execute_result"
    }
   ],
   "source": [
    "prediction_daily_df.columns"
   ]
  },
  {
   "cell_type": "code",
   "execution_count": 9,
   "id": "60caf045-4769-4be1-8c95-00518dd281b3",
   "metadata": {},
   "outputs": [
    {
     "data": {
      "text/plain": [
       "Index(['ID', 'YEAR', 'MONTH', 'DAY', 'HOUR', 'CONSUMPTION', 'PREDICTION_TIME',\n",
       "       'CLIENT_IP'],\n",
       "      dtype='object')"
      ]
     },
     "execution_count": 9,
     "metadata": {},
     "output_type": "execute_result"
    }
   ],
   "source": [
    "prediction_hourly_df.columns"
   ]
  },
  {
   "cell_type": "code",
   "execution_count": 12,
   "id": "9db024f7-1400-4a76-b719-85eac44cdcb4",
   "metadata": {},
   "outputs": [],
   "source": [
    "dicty_hour= {}\n",
    "for col in [\"YEAR\", \"MONTH\", \"DAY\", \"HOUR\"]:\n",
    "    drift_hour = detect_drift(train_df[col], prediction_hourly_df[col])\n",
    "    dicty_hour[col] = drift_hour"
   ]
  },
  {
   "cell_type": "code",
   "execution_count": 13,
   "id": "6a1094b0-c2ba-4be6-9574-e5c0572a3691",
   "metadata": {},
   "outputs": [
    {
     "data": {
      "text/plain": [
       "{'YEAR': 'Drift exits',\n",
       " 'MONTH': 'Drift exits',\n",
       " 'DAY': 'Drift exits',\n",
       " 'HOUR': 'No drift'}"
      ]
     },
     "execution_count": 13,
     "metadata": {},
     "output_type": "execute_result"
    }
   ],
   "source": [
    "dicty_hour"
   ]
  },
  {
   "cell_type": "code",
   "execution_count": 1,
   "id": "665f8502-6f74-4c48-aa91-c47601b6f482",
   "metadata": {},
   "outputs": [],
   "source": [
    "from datetime import datetime as dt"
   ]
  },
  {
   "cell_type": "code",
   "execution_count": 3,
   "id": "f87c8c1b-d48a-4dcc-84f9-701df57c8453",
   "metadata": {},
   "outputs": [],
   "source": [
    "now = dt.now()"
   ]
  },
  {
   "cell_type": "code",
   "execution_count": 4,
   "id": "e0fcdef9-bd5f-4631-bd89-66c265d6cfaf",
   "metadata": {},
   "outputs": [
    {
     "data": {
      "text/plain": [
       "'2023-06-21'"
      ]
     },
     "execution_count": 4,
     "metadata": {},
     "output_type": "execute_result"
    }
   ],
   "source": [
    "now.strftime(\"%Y-%m-%d\")"
   ]
  },
  {
   "cell_type": "code",
   "execution_count": 5,
   "id": "0954cd1c-6440-46fa-a956-3b696bffd8fe",
   "metadata": {},
   "outputs": [
    {
     "data": {
      "text/plain": [
       "7"
      ]
     },
     "execution_count": 5,
     "metadata": {},
     "output_type": "execute_result"
    }
   ],
   "source": [
    "now.hour"
   ]
  },
  {
   "cell_type": "code",
   "execution_count": null,
   "id": "f2eaedda-7f74-47b4-94ce-b64ba0bdde98",
   "metadata": {},
   "outputs": [],
   "source": []
  }
 ],
 "metadata": {
  "kernelspec": {
   "display_name": "fastapi",
   "language": "python",
   "name": "fastapi"
  },
  "language_info": {
   "codemirror_mode": {
    "name": "ipython",
    "version": 3
   },
   "file_extension": ".py",
   "mimetype": "text/x-python",
   "name": "python",
   "nbconvert_exporter": "python",
   "pygments_lexer": "ipython3",
   "version": "3.8.0"
  }
 },
 "nbformat": 4,
 "nbformat_minor": 5
}
