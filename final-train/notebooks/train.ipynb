{
 "cells": [
  {
   "cell_type": "code",
   "execution_count": 2,
   "id": "dd22ca8c-b096-475d-860b-54cdc84c5514",
   "metadata": {},
   "outputs": [],
   "source": [
    "import pandas as pd\n",
    "import numpy as np\n",
    "import os\n",
    "from datetime import datetime as dt, timedelta\n",
    "from sklearn.model_selection import train_test_split\n",
    "from sklearn.metrics import mean_squared_error, mean_absolute_error, r2_score, accuracy_score\n",
    "from urllib.parse import urlparse\n",
    "import mlflow.sklearn \n",
    "from mlflow.tracking import MlflowClient\n",
    "from sklearn.preprocessing import StandardScaler, OneHotEncoder\n",
    "from sklearn.compose import TransformedTargetRegressor\n",
    "from sklearn.pipeline import Pipeline\n",
    "from sklearn.compose import ColumnTransformer"
   ]
  },
  {
   "cell_type": "code",
   "execution_count": 37,
   "id": "e36b060b-1037-4fe4-b07e-00f820c31541",
   "metadata": {},
   "outputs": [],
   "source": [
    "from transparency_epias.consumption import consumptionClient"
   ]
  },
  {
   "cell_type": "code",
   "execution_count": 38,
   "id": "8fae8e38-e5d7-4da0-af6c-83fcac45a682",
   "metadata": {},
   "outputs": [],
   "source": [
    "obj = consumptionClient.consumptionClient()"
   ]
  },
  {
   "cell_type": "code",
   "execution_count": 27,
   "id": "b9163cb3-960c-4061-938d-a29699bb8bec",
   "metadata": {},
   "outputs": [],
   "source": [
    "today = dt.now()"
   ]
  },
  {
   "cell_type": "code",
   "execution_count": 28,
   "id": "aa07d379-efb2-44aa-ab23-5cd37b67ea11",
   "metadata": {},
   "outputs": [
    {
     "name": "stdout",
     "output_type": "stream",
     "text": [
      "2023-06-22\n"
     ]
    }
   ],
   "source": [
    "print(str(today.date()))"
   ]
  },
  {
   "cell_type": "code",
   "execution_count": 41,
   "id": "78957782-2506-4fe4-a883-090816cb7199",
   "metadata": {},
   "outputs": [],
   "source": [
    "date_list, consumption_list = obj.consumption_realtime(\"2020-01-01\",str(today.date()))"
   ]
  },
  {
   "cell_type": "code",
   "execution_count": 42,
   "id": "f7501d6f-4789-4cbf-bfe4-8e0ffe0379e3",
   "metadata": {},
   "outputs": [
    {
     "data": {
      "text/plain": [
       "'2020-01-01T00:00:00.000+0300'"
      ]
     },
     "execution_count": 42,
     "metadata": {},
     "output_type": "execute_result"
    }
   ],
   "source": [
    "date_list[0]"
   ]
  },
  {
   "cell_type": "code",
   "execution_count": 43,
   "id": "b9be5443-21a8-4822-827e-c552b3e19a2b",
   "metadata": {},
   "outputs": [
    {
     "data": {
      "text/plain": [
       "28125.46"
      ]
     },
     "execution_count": 43,
     "metadata": {},
     "output_type": "execute_result"
    }
   ],
   "source": [
    "consumption_list[0]"
   ]
  },
  {
   "cell_type": "code",
   "execution_count": 64,
   "id": "82f30efc-9d8f-480f-bc3d-57bc3522e94b",
   "metadata": {},
   "outputs": [],
   "source": [
    "df_dynamic = pd.DataFrame(\n",
    "    {'DATE': date_list,\n",
    "     'CONSUMPTION': consumption_list\n",
    "    })"
   ]
  },
  {
   "cell_type": "code",
   "execution_count": 65,
   "id": "ec466cf5-403b-49f8-8826-fcc1761feb3b",
   "metadata": {},
   "outputs": [
    {
     "data": {
      "text/html": [
       "<div>\n",
       "<style scoped>\n",
       "    .dataframe tbody tr th:only-of-type {\n",
       "        vertical-align: middle;\n",
       "    }\n",
       "\n",
       "    .dataframe tbody tr th {\n",
       "        vertical-align: top;\n",
       "    }\n",
       "\n",
       "    .dataframe thead th {\n",
       "        text-align: right;\n",
       "    }\n",
       "</style>\n",
       "<table border=\"1\" class=\"dataframe\">\n",
       "  <thead>\n",
       "    <tr style=\"text-align: right;\">\n",
       "      <th></th>\n",
       "      <th>DATE</th>\n",
       "      <th>CONSUMPTION</th>\n",
       "    </tr>\n",
       "  </thead>\n",
       "  <tbody>\n",
       "    <tr>\n",
       "      <th>0</th>\n",
       "      <td>2020-01-01T00:00:00.000+0300</td>\n",
       "      <td>28125.46</td>\n",
       "    </tr>\n",
       "    <tr>\n",
       "      <th>1</th>\n",
       "      <td>2020-01-01T01:00:00.000+0300</td>\n",
       "      <td>26548.41</td>\n",
       "    </tr>\n",
       "    <tr>\n",
       "      <th>2</th>\n",
       "      <td>2020-01-01T02:00:00.000+0300</td>\n",
       "      <td>25287.99</td>\n",
       "    </tr>\n",
       "    <tr>\n",
       "      <th>3</th>\n",
       "      <td>2020-01-01T03:00:00.000+0300</td>\n",
       "      <td>24311.53</td>\n",
       "    </tr>\n",
       "    <tr>\n",
       "      <th>4</th>\n",
       "      <td>2020-01-01T04:00:00.000+0300</td>\n",
       "      <td>23730.48</td>\n",
       "    </tr>\n",
       "  </tbody>\n",
       "</table>\n",
       "</div>"
      ],
      "text/plain": [
       "                           DATE  CONSUMPTION\n",
       "0  2020-01-01T00:00:00.000+0300     28125.46\n",
       "1  2020-01-01T01:00:00.000+0300     26548.41\n",
       "2  2020-01-01T02:00:00.000+0300     25287.99\n",
       "3  2020-01-01T03:00:00.000+0300     24311.53\n",
       "4  2020-01-01T04:00:00.000+0300     23730.48"
      ]
     },
     "execution_count": 65,
     "metadata": {},
     "output_type": "execute_result"
    }
   ],
   "source": [
    "df_dynamic.head()"
   ]
  },
  {
   "cell_type": "code",
   "execution_count": 66,
   "id": "b6e2ef4a-69cc-48f9-9f76-fbea07ba319a",
   "metadata": {},
   "outputs": [
    {
     "data": {
      "text/html": [
       "<div>\n",
       "<style scoped>\n",
       "    .dataframe tbody tr th:only-of-type {\n",
       "        vertical-align: middle;\n",
       "    }\n",
       "\n",
       "    .dataframe tbody tr th {\n",
       "        vertical-align: top;\n",
       "    }\n",
       "\n",
       "    .dataframe thead th {\n",
       "        text-align: right;\n",
       "    }\n",
       "</style>\n",
       "<table border=\"1\" class=\"dataframe\">\n",
       "  <thead>\n",
       "    <tr style=\"text-align: right;\">\n",
       "      <th></th>\n",
       "      <th>DATE</th>\n",
       "      <th>CONSUMPTION</th>\n",
       "    </tr>\n",
       "  </thead>\n",
       "  <tbody>\n",
       "    <tr>\n",
       "      <th>30439</th>\n",
       "      <td>2023-06-22T07:00:00.000+0300</td>\n",
       "      <td>30346.21</td>\n",
       "    </tr>\n",
       "    <tr>\n",
       "      <th>30440</th>\n",
       "      <td>2023-06-22T08:00:00.000+0300</td>\n",
       "      <td>35444.91</td>\n",
       "    </tr>\n",
       "    <tr>\n",
       "      <th>30441</th>\n",
       "      <td>2023-06-22T09:00:00.000+0300</td>\n",
       "      <td>38110.11</td>\n",
       "    </tr>\n",
       "    <tr>\n",
       "      <th>30442</th>\n",
       "      <td>2023-06-22T10:00:00.000+0300</td>\n",
       "      <td>38753.11</td>\n",
       "    </tr>\n",
       "    <tr>\n",
       "      <th>30443</th>\n",
       "      <td>2023-06-22T11:00:00.000+0300</td>\n",
       "      <td>38385.44</td>\n",
       "    </tr>\n",
       "  </tbody>\n",
       "</table>\n",
       "</div>"
      ],
      "text/plain": [
       "                               DATE  CONSUMPTION\n",
       "30439  2023-06-22T07:00:00.000+0300     30346.21\n",
       "30440  2023-06-22T08:00:00.000+0300     35444.91\n",
       "30441  2023-06-22T09:00:00.000+0300     38110.11\n",
       "30442  2023-06-22T10:00:00.000+0300     38753.11\n",
       "30443  2023-06-22T11:00:00.000+0300     38385.44"
      ]
     },
     "execution_count": 66,
     "metadata": {},
     "output_type": "execute_result"
    }
   ],
   "source": [
    "df_dynamic.tail()"
   ]
  },
  {
   "cell_type": "code",
   "execution_count": 68,
   "id": "e0d5082e-3e18-474d-bcdc-e60e94ef6ab5",
   "metadata": {},
   "outputs": [],
   "source": [
    "df_dynamic[\"DAY\"] = pd.to_datetime(df_dynamic[\"DATE\"]).dt.day"
   ]
  },
  {
   "cell_type": "code",
   "execution_count": 69,
   "id": "874d58b5-657f-4bc6-a04a-f2c2a61ea037",
   "metadata": {},
   "outputs": [],
   "source": [
    "df_dynamic[\"MONTH\"] = pd.to_datetime(df_dynamic[\"DATE\"]).dt.month"
   ]
  },
  {
   "cell_type": "code",
   "execution_count": 70,
   "id": "0f050b7c-9848-434d-ab9c-405fb4c72a92",
   "metadata": {},
   "outputs": [],
   "source": [
    "df_dynamic[\"HOUR\"] = pd.to_datetime(df_dynamic[\"DATE\"]).dt.hour"
   ]
  },
  {
   "cell_type": "code",
   "execution_count": 71,
   "id": "7160ac5a-ab7b-409f-93b4-d17e32f0cfce",
   "metadata": {},
   "outputs": [],
   "source": [
    "df_dynamic[\"YEAR\"] = pd.to_datetime(df_dynamic[\"DATE\"]).dt.year"
   ]
  },
  {
   "cell_type": "code",
   "execution_count": 72,
   "id": "6b06efd3-3899-4160-a2e0-7f89ed22c2eb",
   "metadata": {},
   "outputs": [
    {
     "data": {
      "text/html": [
       "<div>\n",
       "<style scoped>\n",
       "    .dataframe tbody tr th:only-of-type {\n",
       "        vertical-align: middle;\n",
       "    }\n",
       "\n",
       "    .dataframe tbody tr th {\n",
       "        vertical-align: top;\n",
       "    }\n",
       "\n",
       "    .dataframe thead th {\n",
       "        text-align: right;\n",
       "    }\n",
       "</style>\n",
       "<table border=\"1\" class=\"dataframe\">\n",
       "  <thead>\n",
       "    <tr style=\"text-align: right;\">\n",
       "      <th></th>\n",
       "      <th>DATE</th>\n",
       "      <th>CONSUMPTION</th>\n",
       "      <th>DAY</th>\n",
       "      <th>MONTH</th>\n",
       "      <th>HOUR</th>\n",
       "      <th>YEAR</th>\n",
       "    </tr>\n",
       "  </thead>\n",
       "  <tbody>\n",
       "    <tr>\n",
       "      <th>0</th>\n",
       "      <td>2020-01-01T00:00:00.000+0300</td>\n",
       "      <td>28125.46</td>\n",
       "      <td>1</td>\n",
       "      <td>1</td>\n",
       "      <td>0</td>\n",
       "      <td>2020</td>\n",
       "    </tr>\n",
       "    <tr>\n",
       "      <th>1</th>\n",
       "      <td>2020-01-01T01:00:00.000+0300</td>\n",
       "      <td>26548.41</td>\n",
       "      <td>1</td>\n",
       "      <td>1</td>\n",
       "      <td>1</td>\n",
       "      <td>2020</td>\n",
       "    </tr>\n",
       "    <tr>\n",
       "      <th>2</th>\n",
       "      <td>2020-01-01T02:00:00.000+0300</td>\n",
       "      <td>25287.99</td>\n",
       "      <td>1</td>\n",
       "      <td>1</td>\n",
       "      <td>2</td>\n",
       "      <td>2020</td>\n",
       "    </tr>\n",
       "    <tr>\n",
       "      <th>3</th>\n",
       "      <td>2020-01-01T03:00:00.000+0300</td>\n",
       "      <td>24311.53</td>\n",
       "      <td>1</td>\n",
       "      <td>1</td>\n",
       "      <td>3</td>\n",
       "      <td>2020</td>\n",
       "    </tr>\n",
       "    <tr>\n",
       "      <th>4</th>\n",
       "      <td>2020-01-01T04:00:00.000+0300</td>\n",
       "      <td>23730.48</td>\n",
       "      <td>1</td>\n",
       "      <td>1</td>\n",
       "      <td>4</td>\n",
       "      <td>2020</td>\n",
       "    </tr>\n",
       "  </tbody>\n",
       "</table>\n",
       "</div>"
      ],
      "text/plain": [
       "                           DATE  CONSUMPTION  DAY  MONTH  HOUR  YEAR\n",
       "0  2020-01-01T00:00:00.000+0300     28125.46    1      1     0  2020\n",
       "1  2020-01-01T01:00:00.000+0300     26548.41    1      1     1  2020\n",
       "2  2020-01-01T02:00:00.000+0300     25287.99    1      1     2  2020\n",
       "3  2020-01-01T03:00:00.000+0300     24311.53    1      1     3  2020\n",
       "4  2020-01-01T04:00:00.000+0300     23730.48    1      1     4  2020"
      ]
     },
     "execution_count": 72,
     "metadata": {},
     "output_type": "execute_result"
    }
   ],
   "source": [
    "df_dynamic.head()"
   ]
  },
  {
   "cell_type": "code",
   "execution_count": 73,
   "id": "aaebc6c7-56c6-4394-91c5-eea5328f1962",
   "metadata": {},
   "outputs": [
    {
     "data": {
      "text/html": [
       "<div>\n",
       "<style scoped>\n",
       "    .dataframe tbody tr th:only-of-type {\n",
       "        vertical-align: middle;\n",
       "    }\n",
       "\n",
       "    .dataframe tbody tr th {\n",
       "        vertical-align: top;\n",
       "    }\n",
       "\n",
       "    .dataframe thead th {\n",
       "        text-align: right;\n",
       "    }\n",
       "</style>\n",
       "<table border=\"1\" class=\"dataframe\">\n",
       "  <thead>\n",
       "    <tr style=\"text-align: right;\">\n",
       "      <th></th>\n",
       "      <th>DATE</th>\n",
       "      <th>CONSUMPTION</th>\n",
       "      <th>DAY</th>\n",
       "      <th>MONTH</th>\n",
       "      <th>HOUR</th>\n",
       "      <th>YEAR</th>\n",
       "    </tr>\n",
       "  </thead>\n",
       "  <tbody>\n",
       "    <tr>\n",
       "      <th>30439</th>\n",
       "      <td>2023-06-22T07:00:00.000+0300</td>\n",
       "      <td>30346.21</td>\n",
       "      <td>22</td>\n",
       "      <td>6</td>\n",
       "      <td>7</td>\n",
       "      <td>2023</td>\n",
       "    </tr>\n",
       "    <tr>\n",
       "      <th>30440</th>\n",
       "      <td>2023-06-22T08:00:00.000+0300</td>\n",
       "      <td>35444.91</td>\n",
       "      <td>22</td>\n",
       "      <td>6</td>\n",
       "      <td>8</td>\n",
       "      <td>2023</td>\n",
       "    </tr>\n",
       "    <tr>\n",
       "      <th>30441</th>\n",
       "      <td>2023-06-22T09:00:00.000+0300</td>\n",
       "      <td>38110.11</td>\n",
       "      <td>22</td>\n",
       "      <td>6</td>\n",
       "      <td>9</td>\n",
       "      <td>2023</td>\n",
       "    </tr>\n",
       "    <tr>\n",
       "      <th>30442</th>\n",
       "      <td>2023-06-22T10:00:00.000+0300</td>\n",
       "      <td>38753.11</td>\n",
       "      <td>22</td>\n",
       "      <td>6</td>\n",
       "      <td>10</td>\n",
       "      <td>2023</td>\n",
       "    </tr>\n",
       "    <tr>\n",
       "      <th>30443</th>\n",
       "      <td>2023-06-22T11:00:00.000+0300</td>\n",
       "      <td>38385.44</td>\n",
       "      <td>22</td>\n",
       "      <td>6</td>\n",
       "      <td>11</td>\n",
       "      <td>2023</td>\n",
       "    </tr>\n",
       "  </tbody>\n",
       "</table>\n",
       "</div>"
      ],
      "text/plain": [
       "                               DATE  CONSUMPTION  DAY  MONTH  HOUR  YEAR\n",
       "30439  2023-06-22T07:00:00.000+0300     30346.21   22      6     7  2023\n",
       "30440  2023-06-22T08:00:00.000+0300     35444.91   22      6     8  2023\n",
       "30441  2023-06-22T09:00:00.000+0300     38110.11   22      6     9  2023\n",
       "30442  2023-06-22T10:00:00.000+0300     38753.11   22      6    10  2023\n",
       "30443  2023-06-22T11:00:00.000+0300     38385.44   22      6    11  2023"
      ]
     },
     "execution_count": 73,
     "metadata": {},
     "output_type": "execute_result"
    }
   ],
   "source": [
    "df_dynamic.tail()"
   ]
  },
  {
   "cell_type": "code",
   "execution_count": 86,
   "id": "24c1f694-b543-45a4-be29-bea5fc7b701f",
   "metadata": {},
   "outputs": [
    {
     "data": {
      "text/plain": [
       "numpy.float64"
      ]
     },
     "execution_count": 86,
     "metadata": {},
     "output_type": "execute_result"
    }
   ],
   "source": [
    "type(df_dynamic[\"CONSUMPTION\"][0])"
   ]
  },
  {
   "cell_type": "code",
   "execution_count": 74,
   "id": "06280fa9-d3ca-49fc-9054-4bb72857bcde",
   "metadata": {},
   "outputs": [],
   "source": [
    "df_dynamic = df_dynamic[[\"CONSUMPTION\", \"YEAR\", \"MONTH\", \"DAY\",\"HOUR\"]]"
   ]
  },
  {
   "cell_type": "code",
   "execution_count": 89,
   "id": "01cc85a2-4e41-4576-a783-8d018380139a",
   "metadata": {},
   "outputs": [
    {
     "data": {
      "text/html": [
       "<div>\n",
       "<style scoped>\n",
       "    .dataframe tbody tr th:only-of-type {\n",
       "        vertical-align: middle;\n",
       "    }\n",
       "\n",
       "    .dataframe tbody tr th {\n",
       "        vertical-align: top;\n",
       "    }\n",
       "\n",
       "    .dataframe thead th {\n",
       "        text-align: right;\n",
       "    }\n",
       "</style>\n",
       "<table border=\"1\" class=\"dataframe\">\n",
       "  <thead>\n",
       "    <tr style=\"text-align: right;\">\n",
       "      <th></th>\n",
       "      <th>CONSUMPTION</th>\n",
       "      <th>YEAR</th>\n",
       "      <th>MONTH</th>\n",
       "      <th>DAY</th>\n",
       "      <th>HOUR</th>\n",
       "    </tr>\n",
       "  </thead>\n",
       "  <tbody>\n",
       "    <tr>\n",
       "      <th>0</th>\n",
       "      <td>28125.46</td>\n",
       "      <td>2020</td>\n",
       "      <td>1</td>\n",
       "      <td>1</td>\n",
       "      <td>0</td>\n",
       "    </tr>\n",
       "    <tr>\n",
       "      <th>1</th>\n",
       "      <td>26548.41</td>\n",
       "      <td>2020</td>\n",
       "      <td>1</td>\n",
       "      <td>1</td>\n",
       "      <td>1</td>\n",
       "    </tr>\n",
       "    <tr>\n",
       "      <th>2</th>\n",
       "      <td>25287.99</td>\n",
       "      <td>2020</td>\n",
       "      <td>1</td>\n",
       "      <td>1</td>\n",
       "      <td>2</td>\n",
       "    </tr>\n",
       "    <tr>\n",
       "      <th>3</th>\n",
       "      <td>24311.53</td>\n",
       "      <td>2020</td>\n",
       "      <td>1</td>\n",
       "      <td>1</td>\n",
       "      <td>3</td>\n",
       "    </tr>\n",
       "    <tr>\n",
       "      <th>4</th>\n",
       "      <td>23730.48</td>\n",
       "      <td>2020</td>\n",
       "      <td>1</td>\n",
       "      <td>1</td>\n",
       "      <td>4</td>\n",
       "    </tr>\n",
       "  </tbody>\n",
       "</table>\n",
       "</div>"
      ],
      "text/plain": [
       "   CONSUMPTION  YEAR  MONTH  DAY  HOUR\n",
       "0     28125.46  2020      1    1     0\n",
       "1     26548.41  2020      1    1     1\n",
       "2     25287.99  2020      1    1     2\n",
       "3     24311.53  2020      1    1     3\n",
       "4     23730.48  2020      1    1     4"
      ]
     },
     "execution_count": 89,
     "metadata": {},
     "output_type": "execute_result"
    }
   ],
   "source": [
    "df_dynamic.head()"
   ]
  },
  {
   "cell_type": "code",
   "execution_count": 81,
   "id": "39e1cc43-72ca-4a2e-bc7b-3503d87e38ca",
   "metadata": {},
   "outputs": [],
   "source": [
    "df_dynamic[\"CONSUMPTION\"] = df_dynamic[\"CONSUMPTION\"].astype(float)"
   ]
  },
  {
   "cell_type": "code",
   "execution_count": 82,
   "id": "35c06b90-b014-4a11-ac88-6046505c3370",
   "metadata": {},
   "outputs": [],
   "source": [
    "df_dynamic_agg = df_dynamic.groupby(['DAY', 'MONTH', 'YEAR']).agg({'CONSUMPTION': 'sum'})"
   ]
  },
  {
   "cell_type": "code",
   "execution_count": 83,
   "id": "ed028dc8-9753-4706-abae-a4d23b344920",
   "metadata": {},
   "outputs": [],
   "source": [
    "df_dynamic_agg = df_dynamic_agg.reset_index()"
   ]
  },
  {
   "cell_type": "code",
   "execution_count": 90,
   "id": "d257fb61-2cd1-40d0-9bfb-f2091327590b",
   "metadata": {},
   "outputs": [],
   "source": [
    "df_dynamic_agg = df_dynamic_agg[[\"CONSUMPTION\", \"YEAR\", \"MONTH\", \"DAY\"]]"
   ]
  },
  {
   "cell_type": "code",
   "execution_count": 91,
   "id": "68cb342f-ee54-4c52-80f8-46dfdefc30ee",
   "metadata": {},
   "outputs": [
    {
     "data": {
      "text/html": [
       "<div>\n",
       "<style scoped>\n",
       "    .dataframe tbody tr th:only-of-type {\n",
       "        vertical-align: middle;\n",
       "    }\n",
       "\n",
       "    .dataframe tbody tr th {\n",
       "        vertical-align: top;\n",
       "    }\n",
       "\n",
       "    .dataframe thead th {\n",
       "        text-align: right;\n",
       "    }\n",
       "</style>\n",
       "<table border=\"1\" class=\"dataframe\">\n",
       "  <thead>\n",
       "    <tr style=\"text-align: right;\">\n",
       "      <th></th>\n",
       "      <th>CONSUMPTION</th>\n",
       "      <th>YEAR</th>\n",
       "      <th>MONTH</th>\n",
       "      <th>DAY</th>\n",
       "    </tr>\n",
       "  </thead>\n",
       "  <tbody>\n",
       "    <tr>\n",
       "      <th>0</th>\n",
       "      <td>684709.92</td>\n",
       "      <td>2020</td>\n",
       "      <td>1</td>\n",
       "      <td>1</td>\n",
       "    </tr>\n",
       "    <tr>\n",
       "      <th>1</th>\n",
       "      <td>695973.69</td>\n",
       "      <td>2021</td>\n",
       "      <td>1</td>\n",
       "      <td>1</td>\n",
       "    </tr>\n",
       "    <tr>\n",
       "      <th>2</th>\n",
       "      <td>754257.04</td>\n",
       "      <td>2022</td>\n",
       "      <td>1</td>\n",
       "      <td>1</td>\n",
       "    </tr>\n",
       "    <tr>\n",
       "      <th>3</th>\n",
       "      <td>689830.56</td>\n",
       "      <td>2023</td>\n",
       "      <td>1</td>\n",
       "      <td>1</td>\n",
       "    </tr>\n",
       "    <tr>\n",
       "      <th>4</th>\n",
       "      <td>806502.33</td>\n",
       "      <td>2020</td>\n",
       "      <td>2</td>\n",
       "      <td>1</td>\n",
       "    </tr>\n",
       "  </tbody>\n",
       "</table>\n",
       "</div>"
      ],
      "text/plain": [
       "   CONSUMPTION  YEAR  MONTH  DAY\n",
       "0    684709.92  2020      1    1\n",
       "1    695973.69  2021      1    1\n",
       "2    754257.04  2022      1    1\n",
       "3    689830.56  2023      1    1\n",
       "4    806502.33  2020      2    1"
      ]
     },
     "execution_count": 91,
     "metadata": {},
     "output_type": "execute_result"
    }
   ],
   "source": [
    "df_dynamic_agg.head()"
   ]
  },
  {
   "cell_type": "code",
   "execution_count": 88,
   "id": "509fca70-e809-4ab5-b0ef-0cdb1649a5ce",
   "metadata": {},
   "outputs": [],
   "source": [
    "df_dynamic.to_csv('../GercekZamanliTuketim') "
   ]
  },
  {
   "cell_type": "code",
   "execution_count": null,
   "id": "1bfb3330-421a-455e-b0be-0eb7cf0091de",
   "metadata": {},
   "outputs": [],
   "source": []
  },
  {
   "cell_type": "code",
   "execution_count": null,
   "id": "ee1aa5ae-5423-4569-a52f-7254bdc5a141",
   "metadata": {},
   "outputs": [],
   "source": []
  },
  {
   "cell_type": "code",
   "execution_count": null,
   "id": "b90a507c-0681-4b55-b5e2-28f9a37c6dc3",
   "metadata": {},
   "outputs": [],
   "source": [
    "#### STANDART WAY"
   ]
  },
  {
   "cell_type": "code",
   "execution_count": 2,
   "id": "0e04ece7-82ab-425a-b1e6-d79f3520e7cc",
   "metadata": {},
   "outputs": [],
   "source": [
    "df = pd.read_csv(\"GercekZamanliTuketim-15062020-15062023.csv\", encoding= 'unicode_escape')"
   ]
  },
  {
   "cell_type": "code",
   "execution_count": 3,
   "id": "73c1bbc1-7c40-4090-815a-917fbabe585a",
   "metadata": {},
   "outputs": [
    {
     "data": {
      "text/html": [
       "<div>\n",
       "<style scoped>\n",
       "    .dataframe tbody tr th:only-of-type {\n",
       "        vertical-align: middle;\n",
       "    }\n",
       "\n",
       "    .dataframe tbody tr th {\n",
       "        vertical-align: top;\n",
       "    }\n",
       "\n",
       "    .dataframe thead th {\n",
       "        text-align: right;\n",
       "    }\n",
       "</style>\n",
       "<table border=\"1\" class=\"dataframe\">\n",
       "  <thead>\n",
       "    <tr style=\"text-align: right;\">\n",
       "      <th></th>\n",
       "      <th>Tarih</th>\n",
       "      <th>Saat</th>\n",
       "      <th>Tüketim Miktarý (MWh)</th>\n",
       "    </tr>\n",
       "  </thead>\n",
       "  <tbody>\n",
       "    <tr>\n",
       "      <th>0</th>\n",
       "      <td>15.06.2020</td>\n",
       "      <td>00:00</td>\n",
       "      <td>28.407,29</td>\n",
       "    </tr>\n",
       "    <tr>\n",
       "      <th>1</th>\n",
       "      <td>15.06.2020</td>\n",
       "      <td>01:00</td>\n",
       "      <td>26.899,36</td>\n",
       "    </tr>\n",
       "    <tr>\n",
       "      <th>2</th>\n",
       "      <td>15.06.2020</td>\n",
       "      <td>02:00</td>\n",
       "      <td>25.893,43</td>\n",
       "    </tr>\n",
       "    <tr>\n",
       "      <th>3</th>\n",
       "      <td>15.06.2020</td>\n",
       "      <td>03:00</td>\n",
       "      <td>25.304,63</td>\n",
       "    </tr>\n",
       "    <tr>\n",
       "      <th>4</th>\n",
       "      <td>15.06.2020</td>\n",
       "      <td>04:00</td>\n",
       "      <td>25.196,80</td>\n",
       "    </tr>\n",
       "  </tbody>\n",
       "</table>\n",
       "</div>"
      ],
      "text/plain": [
       "        Tarih   Saat Tüketim Miktarý (MWh)\n",
       "0  15.06.2020  00:00             28.407,29\n",
       "1  15.06.2020  01:00             26.899,36\n",
       "2  15.06.2020  02:00             25.893,43\n",
       "3  15.06.2020  03:00             25.304,63\n",
       "4  15.06.2020  04:00             25.196,80"
      ]
     },
     "execution_count": 3,
     "metadata": {},
     "output_type": "execute_result"
    }
   ],
   "source": [
    "df.head()"
   ]
  },
  {
   "cell_type": "code",
   "execution_count": null,
   "id": "b90737ed-fca6-4421-914b-26f601e2d408",
   "metadata": {},
   "outputs": [],
   "source": []
  },
  {
   "cell_type": "code",
   "execution_count": 4,
   "id": "a3567c3a-4885-442e-af46-14ca58adc1af",
   "metadata": {},
   "outputs": [
    {
     "data": {
      "text/plain": [
       "(26300, 3)"
      ]
     },
     "execution_count": 4,
     "metadata": {},
     "output_type": "execute_result"
    }
   ],
   "source": [
    "df.shape"
   ]
  },
  {
   "cell_type": "code",
   "execution_count": 5,
   "id": "00b001e0-8b20-4ccc-9e4d-b2d7ce7c0fa5",
   "metadata": {},
   "outputs": [],
   "source": [
    "columns = [\"DATE\", \"TIME\", \"CONSUMPTION\"]"
   ]
  },
  {
   "cell_type": "code",
   "execution_count": 6,
   "id": "99ad8f36-1225-4b3d-aabf-80b81e2ca354",
   "metadata": {},
   "outputs": [],
   "source": [
    "df.set_axis(columns, axis='columns', inplace=True)"
   ]
  },
  {
   "cell_type": "code",
   "execution_count": 7,
   "id": "bc4a9f2d-0993-4949-aced-3d4274708057",
   "metadata": {},
   "outputs": [
    {
     "data": {
      "text/html": [
       "<div>\n",
       "<style scoped>\n",
       "    .dataframe tbody tr th:only-of-type {\n",
       "        vertical-align: middle;\n",
       "    }\n",
       "\n",
       "    .dataframe tbody tr th {\n",
       "        vertical-align: top;\n",
       "    }\n",
       "\n",
       "    .dataframe thead th {\n",
       "        text-align: right;\n",
       "    }\n",
       "</style>\n",
       "<table border=\"1\" class=\"dataframe\">\n",
       "  <thead>\n",
       "    <tr style=\"text-align: right;\">\n",
       "      <th></th>\n",
       "      <th>DATE</th>\n",
       "      <th>TIME</th>\n",
       "      <th>CONSUMPTION</th>\n",
       "    </tr>\n",
       "  </thead>\n",
       "  <tbody>\n",
       "    <tr>\n",
       "      <th>0</th>\n",
       "      <td>15.06.2020</td>\n",
       "      <td>00:00</td>\n",
       "      <td>28.407,29</td>\n",
       "    </tr>\n",
       "    <tr>\n",
       "      <th>1</th>\n",
       "      <td>15.06.2020</td>\n",
       "      <td>01:00</td>\n",
       "      <td>26.899,36</td>\n",
       "    </tr>\n",
       "    <tr>\n",
       "      <th>2</th>\n",
       "      <td>15.06.2020</td>\n",
       "      <td>02:00</td>\n",
       "      <td>25.893,43</td>\n",
       "    </tr>\n",
       "    <tr>\n",
       "      <th>3</th>\n",
       "      <td>15.06.2020</td>\n",
       "      <td>03:00</td>\n",
       "      <td>25.304,63</td>\n",
       "    </tr>\n",
       "    <tr>\n",
       "      <th>4</th>\n",
       "      <td>15.06.2020</td>\n",
       "      <td>04:00</td>\n",
       "      <td>25.196,80</td>\n",
       "    </tr>\n",
       "  </tbody>\n",
       "</table>\n",
       "</div>"
      ],
      "text/plain": [
       "         DATE   TIME CONSUMPTION\n",
       "0  15.06.2020  00:00   28.407,29\n",
       "1  15.06.2020  01:00   26.899,36\n",
       "2  15.06.2020  02:00   25.893,43\n",
       "3  15.06.2020  03:00   25.304,63\n",
       "4  15.06.2020  04:00   25.196,80"
      ]
     },
     "execution_count": 7,
     "metadata": {},
     "output_type": "execute_result"
    }
   ],
   "source": [
    "df.head()"
   ]
  },
  {
   "cell_type": "code",
   "execution_count": 8,
   "id": "a48e3dc8-2773-4369-a68e-a9ef242946ef",
   "metadata": {},
   "outputs": [
    {
     "name": "stdout",
     "output_type": "stream",
     "text": [
      "<class 'pandas.core.frame.DataFrame'>\n",
      "RangeIndex: 26300 entries, 0 to 26299\n",
      "Data columns (total 3 columns):\n",
      " #   Column       Non-Null Count  Dtype \n",
      "---  ------       --------------  ----- \n",
      " 0   DATE         26300 non-null  object\n",
      " 1   TIME         26300 non-null  object\n",
      " 2   CONSUMPTION  26300 non-null  object\n",
      "dtypes: object(3)\n",
      "memory usage: 616.5+ KB\n"
     ]
    }
   ],
   "source": [
    "df.info()"
   ]
  },
  {
   "cell_type": "code",
   "execution_count": 9,
   "id": "7c622386-81cb-476d-8988-06c4ef77a7e5",
   "metadata": {},
   "outputs": [
    {
     "name": "stderr",
     "output_type": "stream",
     "text": [
      "/tmp/ipykernel_12898/1522742151.py:1: FutureWarning: The default value of regex will change from True to False in a future version. In addition, single character regular expressions will *not* be treated as literal strings when regex=True.\n",
      "  df['DATE'] = pd.to_datetime(df['DATE'].str.replace('.','-') + ' ' +df['TIME'])\n"
     ]
    }
   ],
   "source": [
    "df['DATE'] = pd.to_datetime(df['DATE'].str.replace('.','-') + ' ' +df['TIME'])"
   ]
  },
  {
   "cell_type": "code",
   "execution_count": 10,
   "id": "d834e6b7-4d46-43a2-8de8-7c5d343c9bb4",
   "metadata": {},
   "outputs": [],
   "source": [
    "df.drop('TIME', axis=1, inplace=True)"
   ]
  },
  {
   "cell_type": "code",
   "execution_count": 11,
   "id": "8ff96733-3e9c-452e-9272-487c7e0b6b0d",
   "metadata": {},
   "outputs": [
    {
     "data": {
      "text/html": [
       "<div>\n",
       "<style scoped>\n",
       "    .dataframe tbody tr th:only-of-type {\n",
       "        vertical-align: middle;\n",
       "    }\n",
       "\n",
       "    .dataframe tbody tr th {\n",
       "        vertical-align: top;\n",
       "    }\n",
       "\n",
       "    .dataframe thead th {\n",
       "        text-align: right;\n",
       "    }\n",
       "</style>\n",
       "<table border=\"1\" class=\"dataframe\">\n",
       "  <thead>\n",
       "    <tr style=\"text-align: right;\">\n",
       "      <th></th>\n",
       "      <th>DATE</th>\n",
       "      <th>CONSUMPTION</th>\n",
       "    </tr>\n",
       "  </thead>\n",
       "  <tbody>\n",
       "    <tr>\n",
       "      <th>0</th>\n",
       "      <td>2020-06-15 00:00:00</td>\n",
       "      <td>28.407,29</td>\n",
       "    </tr>\n",
       "    <tr>\n",
       "      <th>1</th>\n",
       "      <td>2020-06-15 01:00:00</td>\n",
       "      <td>26.899,36</td>\n",
       "    </tr>\n",
       "    <tr>\n",
       "      <th>2</th>\n",
       "      <td>2020-06-15 02:00:00</td>\n",
       "      <td>25.893,43</td>\n",
       "    </tr>\n",
       "    <tr>\n",
       "      <th>3</th>\n",
       "      <td>2020-06-15 03:00:00</td>\n",
       "      <td>25.304,63</td>\n",
       "    </tr>\n",
       "    <tr>\n",
       "      <th>4</th>\n",
       "      <td>2020-06-15 04:00:00</td>\n",
       "      <td>25.196,80</td>\n",
       "    </tr>\n",
       "  </tbody>\n",
       "</table>\n",
       "</div>"
      ],
      "text/plain": [
       "                 DATE CONSUMPTION\n",
       "0 2020-06-15 00:00:00   28.407,29\n",
       "1 2020-06-15 01:00:00   26.899,36\n",
       "2 2020-06-15 02:00:00   25.893,43\n",
       "3 2020-06-15 03:00:00   25.304,63\n",
       "4 2020-06-15 04:00:00   25.196,80"
      ]
     },
     "execution_count": 11,
     "metadata": {},
     "output_type": "execute_result"
    }
   ],
   "source": [
    "df.head()"
   ]
  },
  {
   "cell_type": "code",
   "execution_count": 12,
   "id": "87cca196-9fda-45c0-a5a6-41abede2d0c9",
   "metadata": {},
   "outputs": [],
   "source": [
    "df['CONSUMPTION'] = df['CONSUMPTION'].str.replace(',','')"
   ]
  },
  {
   "cell_type": "code",
   "execution_count": 13,
   "id": "c0f0e572-1e88-403a-a091-7792f884c41e",
   "metadata": {},
   "outputs": [],
   "source": [
    "df[\"DAY\"] = df[\"DATE\"].dt.day"
   ]
  },
  {
   "cell_type": "code",
   "execution_count": 14,
   "id": "013be7ba-d917-4377-bda2-dbb3cf239e94",
   "metadata": {},
   "outputs": [],
   "source": [
    "df[\"MONTH\"] = df[\"DATE\"].dt.month"
   ]
  },
  {
   "cell_type": "code",
   "execution_count": 15,
   "id": "d1f53f30-c95b-4365-82ea-c32d098557cb",
   "metadata": {},
   "outputs": [],
   "source": [
    "df[\"YEAR\"] = df[\"DATE\"].dt.year"
   ]
  },
  {
   "cell_type": "code",
   "execution_count": 16,
   "id": "8818231a-369b-4684-aeda-16f4c8297002",
   "metadata": {},
   "outputs": [],
   "source": [
    "df[\"HOUR\"] = df[\"DATE\"].dt.hour"
   ]
  },
  {
   "cell_type": "code",
   "execution_count": 17,
   "id": "2f2ea460-a24f-4e48-85dc-2c2603780a29",
   "metadata": {},
   "outputs": [],
   "source": [
    "df[\"CONSUMPTION\"] = df[\"CONSUMPTION\"].astype(float)"
   ]
  },
  {
   "cell_type": "code",
   "execution_count": 18,
   "id": "feaaf4fe-e2d7-4023-8366-b0872dab7cd0",
   "metadata": {},
   "outputs": [
    {
     "name": "stdout",
     "output_type": "stream",
     "text": [
      "<class 'pandas.core.frame.DataFrame'>\n",
      "RangeIndex: 26300 entries, 0 to 26299\n",
      "Data columns (total 6 columns):\n",
      " #   Column       Non-Null Count  Dtype         \n",
      "---  ------       --------------  -----         \n",
      " 0   DATE         26300 non-null  datetime64[ns]\n",
      " 1   CONSUMPTION  26300 non-null  float64       \n",
      " 2   DAY          26300 non-null  int64         \n",
      " 3   MONTH        26300 non-null  int64         \n",
      " 4   YEAR         26300 non-null  int64         \n",
      " 5   HOUR         26300 non-null  int64         \n",
      "dtypes: datetime64[ns](1), float64(1), int64(4)\n",
      "memory usage: 1.2 MB\n"
     ]
    }
   ],
   "source": [
    "df.info()"
   ]
  },
  {
   "cell_type": "code",
   "execution_count": 19,
   "id": "8aedf595-6c82-4072-87a8-885b0818ce47",
   "metadata": {},
   "outputs": [
    {
     "data": {
      "text/html": [
       "<div>\n",
       "<style scoped>\n",
       "    .dataframe tbody tr th:only-of-type {\n",
       "        vertical-align: middle;\n",
       "    }\n",
       "\n",
       "    .dataframe tbody tr th {\n",
       "        vertical-align: top;\n",
       "    }\n",
       "\n",
       "    .dataframe thead th {\n",
       "        text-align: right;\n",
       "    }\n",
       "</style>\n",
       "<table border=\"1\" class=\"dataframe\">\n",
       "  <thead>\n",
       "    <tr style=\"text-align: right;\">\n",
       "      <th></th>\n",
       "      <th>DATE</th>\n",
       "      <th>CONSUMPTION</th>\n",
       "      <th>DAY</th>\n",
       "      <th>MONTH</th>\n",
       "      <th>YEAR</th>\n",
       "      <th>HOUR</th>\n",
       "    </tr>\n",
       "  </thead>\n",
       "  <tbody>\n",
       "    <tr>\n",
       "      <th>0</th>\n",
       "      <td>2020-06-15 00:00:00</td>\n",
       "      <td>28.40729</td>\n",
       "      <td>15</td>\n",
       "      <td>6</td>\n",
       "      <td>2020</td>\n",
       "      <td>0</td>\n",
       "    </tr>\n",
       "    <tr>\n",
       "      <th>1</th>\n",
       "      <td>2020-06-15 01:00:00</td>\n",
       "      <td>26.89936</td>\n",
       "      <td>15</td>\n",
       "      <td>6</td>\n",
       "      <td>2020</td>\n",
       "      <td>1</td>\n",
       "    </tr>\n",
       "    <tr>\n",
       "      <th>2</th>\n",
       "      <td>2020-06-15 02:00:00</td>\n",
       "      <td>25.89343</td>\n",
       "      <td>15</td>\n",
       "      <td>6</td>\n",
       "      <td>2020</td>\n",
       "      <td>2</td>\n",
       "    </tr>\n",
       "    <tr>\n",
       "      <th>3</th>\n",
       "      <td>2020-06-15 03:00:00</td>\n",
       "      <td>25.30463</td>\n",
       "      <td>15</td>\n",
       "      <td>6</td>\n",
       "      <td>2020</td>\n",
       "      <td>3</td>\n",
       "    </tr>\n",
       "    <tr>\n",
       "      <th>4</th>\n",
       "      <td>2020-06-15 04:00:00</td>\n",
       "      <td>25.19680</td>\n",
       "      <td>15</td>\n",
       "      <td>6</td>\n",
       "      <td>2020</td>\n",
       "      <td>4</td>\n",
       "    </tr>\n",
       "  </tbody>\n",
       "</table>\n",
       "</div>"
      ],
      "text/plain": [
       "                 DATE  CONSUMPTION  DAY  MONTH  YEAR  HOUR\n",
       "0 2020-06-15 00:00:00     28.40729   15      6  2020     0\n",
       "1 2020-06-15 01:00:00     26.89936   15      6  2020     1\n",
       "2 2020-06-15 02:00:00     25.89343   15      6  2020     2\n",
       "3 2020-06-15 03:00:00     25.30463   15      6  2020     3\n",
       "4 2020-06-15 04:00:00     25.19680   15      6  2020     4"
      ]
     },
     "execution_count": 19,
     "metadata": {},
     "output_type": "execute_result"
    }
   ],
   "source": [
    "df.head()"
   ]
  },
  {
   "cell_type": "code",
   "execution_count": 25,
   "id": "1b4feb55-6f16-4956-bb1f-0d6855fe69b0",
   "metadata": {},
   "outputs": [],
   "source": [
    "# Group the data by day, month, and year, and sum the 'CONSUMPTION' column\n",
    "df_day = df.groupby(['DAY', 'MONTH', 'YEAR']).agg({'CONSUMPTION': 'sum'})\n",
    "\n",
    "# Reset the index to make 'DAY', 'MONTH', and 'YEAR' as regular columns\n",
    "df_day = df_day.reset_index()"
   ]
  },
  {
   "cell_type": "code",
   "execution_count": 26,
   "id": "be0f379a-1a51-4bf2-a707-62df1cd0a384",
   "metadata": {},
   "outputs": [],
   "source": [
    "df_day = df_day[[\"CONSUMPTION\", \"YEAR\", \"MONTH\", \"DAY\"]]"
   ]
  },
  {
   "cell_type": "code",
   "execution_count": 27,
   "id": "9f84bb40-c817-460e-836d-95610b638898",
   "metadata": {},
   "outputs": [
    {
     "data": {
      "text/html": [
       "<div>\n",
       "<style scoped>\n",
       "    .dataframe tbody tr th:only-of-type {\n",
       "        vertical-align: middle;\n",
       "    }\n",
       "\n",
       "    .dataframe tbody tr th {\n",
       "        vertical-align: top;\n",
       "    }\n",
       "\n",
       "    .dataframe thead th {\n",
       "        text-align: right;\n",
       "    }\n",
       "</style>\n",
       "<table border=\"1\" class=\"dataframe\">\n",
       "  <thead>\n",
       "    <tr style=\"text-align: right;\">\n",
       "      <th></th>\n",
       "      <th>CONSUMPTION</th>\n",
       "      <th>YEAR</th>\n",
       "      <th>MONTH</th>\n",
       "      <th>DAY</th>\n",
       "    </tr>\n",
       "  </thead>\n",
       "  <tbody>\n",
       "    <tr>\n",
       "      <th>0</th>\n",
       "      <td>695.97369</td>\n",
       "      <td>2021</td>\n",
       "      <td>1</td>\n",
       "      <td>1</td>\n",
       "    </tr>\n",
       "    <tr>\n",
       "      <th>1</th>\n",
       "      <td>754.25704</td>\n",
       "      <td>2022</td>\n",
       "      <td>1</td>\n",
       "      <td>1</td>\n",
       "    </tr>\n",
       "    <tr>\n",
       "      <th>2</th>\n",
       "      <td>689.83056</td>\n",
       "      <td>2023</td>\n",
       "      <td>1</td>\n",
       "      <td>1</td>\n",
       "    </tr>\n",
       "    <tr>\n",
       "      <th>3</th>\n",
       "      <td>726.64643</td>\n",
       "      <td>2021</td>\n",
       "      <td>2</td>\n",
       "      <td>1</td>\n",
       "    </tr>\n",
       "    <tr>\n",
       "      <th>4</th>\n",
       "      <td>773.71833</td>\n",
       "      <td>2022</td>\n",
       "      <td>2</td>\n",
       "      <td>1</td>\n",
       "    </tr>\n",
       "  </tbody>\n",
       "</table>\n",
       "</div>"
      ],
      "text/plain": [
       "   CONSUMPTION  YEAR  MONTH  DAY\n",
       "0    695.97369  2021      1    1\n",
       "1    754.25704  2022      1    1\n",
       "2    689.83056  2023      1    1\n",
       "3    726.64643  2021      2    1\n",
       "4    773.71833  2022      2    1"
      ]
     },
     "execution_count": 27,
     "metadata": {},
     "output_type": "execute_result"
    }
   ],
   "source": [
    "df_day[:5]"
   ]
  },
  {
   "cell_type": "code",
   "execution_count": 28,
   "id": "c8adc2de-7b02-4578-84e0-37310b5d3851",
   "metadata": {},
   "outputs": [],
   "source": [
    "df_hour = df[[\"CONSUMPTION\", \"YEAR\", \"MONTH\", \"DAY\", \"HOUR\"]]"
   ]
  },
  {
   "cell_type": "code",
   "execution_count": 29,
   "id": "a6479bc1-4557-4924-9a56-ad4536c0ac82",
   "metadata": {},
   "outputs": [
    {
     "data": {
      "text/html": [
       "<div>\n",
       "<style scoped>\n",
       "    .dataframe tbody tr th:only-of-type {\n",
       "        vertical-align: middle;\n",
       "    }\n",
       "\n",
       "    .dataframe tbody tr th {\n",
       "        vertical-align: top;\n",
       "    }\n",
       "\n",
       "    .dataframe thead th {\n",
       "        text-align: right;\n",
       "    }\n",
       "</style>\n",
       "<table border=\"1\" class=\"dataframe\">\n",
       "  <thead>\n",
       "    <tr style=\"text-align: right;\">\n",
       "      <th></th>\n",
       "      <th>CONSUMPTION</th>\n",
       "      <th>YEAR</th>\n",
       "      <th>MONTH</th>\n",
       "      <th>DAY</th>\n",
       "      <th>HOUR</th>\n",
       "    </tr>\n",
       "  </thead>\n",
       "  <tbody>\n",
       "    <tr>\n",
       "      <th>0</th>\n",
       "      <td>28.40729</td>\n",
       "      <td>2020</td>\n",
       "      <td>6</td>\n",
       "      <td>15</td>\n",
       "      <td>0</td>\n",
       "    </tr>\n",
       "    <tr>\n",
       "      <th>1</th>\n",
       "      <td>26.89936</td>\n",
       "      <td>2020</td>\n",
       "      <td>6</td>\n",
       "      <td>15</td>\n",
       "      <td>1</td>\n",
       "    </tr>\n",
       "    <tr>\n",
       "      <th>2</th>\n",
       "      <td>25.89343</td>\n",
       "      <td>2020</td>\n",
       "      <td>6</td>\n",
       "      <td>15</td>\n",
       "      <td>2</td>\n",
       "    </tr>\n",
       "    <tr>\n",
       "      <th>3</th>\n",
       "      <td>25.30463</td>\n",
       "      <td>2020</td>\n",
       "      <td>6</td>\n",
       "      <td>15</td>\n",
       "      <td>3</td>\n",
       "    </tr>\n",
       "    <tr>\n",
       "      <th>4</th>\n",
       "      <td>25.19680</td>\n",
       "      <td>2020</td>\n",
       "      <td>6</td>\n",
       "      <td>15</td>\n",
       "      <td>4</td>\n",
       "    </tr>\n",
       "  </tbody>\n",
       "</table>\n",
       "</div>"
      ],
      "text/plain": [
       "   CONSUMPTION  YEAR  MONTH  DAY  HOUR\n",
       "0     28.40729  2020      6   15     0\n",
       "1     26.89936  2020      6   15     1\n",
       "2     25.89343  2020      6   15     2\n",
       "3     25.30463  2020      6   15     3\n",
       "4     25.19680  2020      6   15     4"
      ]
     },
     "execution_count": 29,
     "metadata": {},
     "output_type": "execute_result"
    }
   ],
   "source": [
    "df_hour[:5]"
   ]
  },
  {
   "cell_type": "code",
   "execution_count": 30,
   "id": "9a8b52a0-9bf6-4046-b04f-4439de6b0d82",
   "metadata": {
    "tags": []
   },
   "outputs": [
    {
     "name": "stdout",
     "output_type": "stream",
     "text": [
      "<class 'pandas.core.frame.DataFrame'>\n",
      "RangeIndex: 26300 entries, 0 to 26299\n",
      "Data columns (total 6 columns):\n",
      " #   Column       Non-Null Count  Dtype         \n",
      "---  ------       --------------  -----         \n",
      " 0   DATE         26300 non-null  datetime64[ns]\n",
      " 1   CONSUMPTION  26300 non-null  float64       \n",
      " 2   DAY          26300 non-null  int64         \n",
      " 3   MONTH        26300 non-null  int64         \n",
      " 4   YEAR         26300 non-null  int64         \n",
      " 5   HOUR         26300 non-null  int64         \n",
      "dtypes: datetime64[ns](1), float64(1), int64(4)\n",
      "memory usage: 1.2 MB\n"
     ]
    }
   ],
   "source": [
    "df.info()"
   ]
  },
  {
   "cell_type": "code",
   "execution_count": 26,
   "id": "ca5ca08a-e2b8-4649-8adc-2efd057cb793",
   "metadata": {
    "tags": []
   },
   "outputs": [
    {
     "name": "stdout",
     "output_type": "stream",
     "text": [
      "(26300, 4)\n",
      "<class 'pandas.core.frame.DataFrame'>\n",
      "   YEAR  MONTH  DAY  HOUR\n",
      "0  2020      6   15     0\n",
      "1  2020      6   15     1\n",
      "2  2020      6   15     2\n",
      "(26300,)\n",
      "<class 'pandas.core.series.Series'>\n",
      "0    28.40729\n",
      "1    26.89936\n",
      "2    25.89343\n",
      "Name: CONSUMPTION, dtype: float64\n"
     ]
    }
   ],
   "source": [
    "X_hour = df_hour.iloc[:, 1:]\n",
    "print(X_hour.shape)\n",
    "print(type(X_hour))\n",
    "print(X_hour[:3])\n",
    "\n",
    "# Output variable\n",
    "y_hour = df_hour.iloc[:, 0]\n",
    "print(y_hour.shape)\n",
    "print(type(y_hour))\n",
    "print(y_hour[:3])"
   ]
  },
  {
   "cell_type": "code",
   "execution_count": 27,
   "id": "496dd5c9-65fb-41c8-951d-52e388a6b5d1",
   "metadata": {},
   "outputs": [
    {
     "name": "stdout",
     "output_type": "stream",
     "text": [
      "(1096, 3)\n",
      "<class 'pandas.core.frame.DataFrame'>\n",
      "   YEAR  MONTH  DAY\n",
      "0  2021      1    1\n",
      "1  2022      1    1\n",
      "2  2023      1    1\n",
      "(1096,)\n",
      "<class 'pandas.core.series.Series'>\n",
      "0    695.97369\n",
      "1    754.25704\n",
      "2    689.83056\n",
      "Name: CONSUMPTION, dtype: float64\n"
     ]
    }
   ],
   "source": [
    "X_day = df_day.iloc[:, 1:]\n",
    "print(X_day.shape)\n",
    "print(type(X_day))\n",
    "print(X_day[:3])\n",
    "\n",
    "# Output variable\n",
    "y_day = df_day.iloc[:, 0]\n",
    "print(y_day.shape)\n",
    "print(type(y_day))\n",
    "print(y_day[:3])"
   ]
  },
  {
   "cell_type": "code",
   "execution_count": 28,
   "id": "a8ce4300-b4c7-4601-9388-723232f5075c",
   "metadata": {},
   "outputs": [],
   "source": [
    "# MODEL FOR HOURLY CONSUMPTION"
   ]
  },
  {
   "cell_type": "code",
   "execution_count": 29,
   "id": "f4e6fcc8-458f-4c34-8ba8-ff707afc7bd5",
   "metadata": {},
   "outputs": [],
   "source": [
    "X_train_hour, X_test_hour, y_train_hour, y_test_hour = train_test_split(X_hour,y_hour, test_size=0.2, random_state=42)"
   ]
  },
  {
   "cell_type": "code",
   "execution_count": 31,
   "id": "28a3edb2-c8e5-49fd-bb41-899ac0b9624d",
   "metadata": {
    "tags": []
   },
   "outputs": [
    {
     "name": "stdout",
     "output_type": "stream",
     "text": [
      "       YEAR  MONTH  DAY  HOUR\n",
      "11507  2021      7   10    11\n",
      "18018  2022      5    7    18\n",
      "16190  2022      4   20    14\n",
      "5332   2021      1   23     4\n",
      "26004  2023      3    6    12\n",
      "       YEAR  MONTH  DAY  HOUR\n",
      "18303  2022      7   17    15\n",
      "24612  2023      6    4    12\n",
      "2973   2020     10   16    21\n",
      "22501  2023      8    1    13\n",
      "4699   2020     12   27    19\n",
      "...     ...    ...  ...   ...\n",
      "9222   2021      4    7     6\n",
      "5245   2021      1   19    13\n",
      "23086  2023      1    2    22\n",
      "2814   2020     10   10     6\n",
      "19525  2022      6    9    13\n",
      "\n",
      "[5260 rows x 4 columns]\n"
     ]
    }
   ],
   "source": [
    "pipeline_hour = Pipeline([\n",
    "    ('ct-ohe', ColumnTransformer([('ct', OneHotEncoder(handle_unknown='ignore', categories='auto'), [0, 1, 2, 3])], remainder='passthrough')),\n",
    "    ('scaler', StandardScaler(with_mean=False)),\n",
    "    ('estimator', TransformedTargetRegressor(regressor=xgboost.XGBRegressor(), transformer=StandardScaler()))\n",
    "])\n",
    "\n",
    "# Fit the pipeline\n",
    "pipeline_hour.fit(X_train_hour, y_train_hour)\n",
    "print(X_train_hour[:5])\n",
    "print(X_test_hour)\n",
    "y_pred_hour = pipeline_hour.predict(X_test_hour)"
   ]
  },
  {
   "cell_type": "code",
   "execution_count": 32,
   "id": "8123cbb1-ba4d-48ef-a8df-5ab6c53b4e9b",
   "metadata": {},
   "outputs": [],
   "source": [
    "# MODEL FOR DAILY CONSUMPTION"
   ]
  },
  {
   "cell_type": "code",
   "execution_count": 33,
   "id": "6abc586f-9850-4d5c-bd70-d701bf79cf5a",
   "metadata": {},
   "outputs": [],
   "source": [
    "X_train_day, X_test_day, y_train_day, y_test_day = train_test_split(X_day,y_day, test_size=0.2, random_state=42)"
   ]
  },
  {
   "cell_type": "code",
   "execution_count": 34,
   "id": "496f25fe-b136-42fc-94a5-90efa1c3cfdc",
   "metadata": {},
   "outputs": [
    {
     "name": "stdout",
     "output_type": "stream",
     "text": [
      "     YEAR  MONTH  DAY\n",
      "2    2023      1    1\n",
      "6    2021      3    1\n",
      "590  2022      5   17\n",
      "634  2020      8   18\n",
      "842  2022      5   24\n",
      "     YEAR  MONTH  DAY\n",
      "44   2023      3    2\n",
      "568  2020     10   16\n",
      "56   2023      7    2\n",
      "636  2022      8   18\n",
      "486  2020      7   14\n",
      "..    ...    ...  ...\n",
      "757  2021      1   22\n",
      "713  2021     10   20\n",
      "365  2022      2   11\n",
      "299  2022      4    9\n",
      "286  2021     12    8\n",
      "\n",
      "[220 rows x 3 columns]\n"
     ]
    }
   ],
   "source": [
    "pipeline_day = Pipeline([\n",
    "    ('ct-ohe', ColumnTransformer([('ct', OneHotEncoder(handle_unknown='ignore', categories='auto'), [0, 1, 2])], remainder='passthrough')),\n",
    "    ('scaler', StandardScaler(with_mean=False)),\n",
    "    ('estimator', TransformedTargetRegressor(regressor=xgboost.XGBRegressor(), transformer=StandardScaler()))\n",
    "])\n",
    "\n",
    "# Fit the pipeline\n",
    "pipeline_day.fit(X_train_day, y_train_day)\n",
    "print(X_train_day[:5])\n",
    "print(X_test_day)\n",
    "y_pred_day = pipeline_day.predict(X_test_day)"
   ]
  },
  {
   "cell_type": "code",
   "execution_count": 35,
   "id": "e3cbf0df-f5a9-4360-9858-25c22d088118",
   "metadata": {},
   "outputs": [
    {
     "data": {
      "text/html": [
       "<div>\n",
       "<style scoped>\n",
       "    .dataframe tbody tr th:only-of-type {\n",
       "        vertical-align: middle;\n",
       "    }\n",
       "\n",
       "    .dataframe tbody tr th {\n",
       "        vertical-align: top;\n",
       "    }\n",
       "\n",
       "    .dataframe thead th {\n",
       "        text-align: right;\n",
       "    }\n",
       "</style>\n",
       "<table border=\"1\" class=\"dataframe\">\n",
       "  <thead>\n",
       "    <tr style=\"text-align: right;\">\n",
       "      <th></th>\n",
       "      <th>YEAR</th>\n",
       "      <th>MONTH</th>\n",
       "      <th>DAY</th>\n",
       "    </tr>\n",
       "  </thead>\n",
       "  <tbody>\n",
       "    <tr>\n",
       "      <th>44</th>\n",
       "      <td>2023</td>\n",
       "      <td>3</td>\n",
       "      <td>2</td>\n",
       "    </tr>\n",
       "    <tr>\n",
       "      <th>568</th>\n",
       "      <td>2020</td>\n",
       "      <td>10</td>\n",
       "      <td>16</td>\n",
       "    </tr>\n",
       "    <tr>\n",
       "      <th>56</th>\n",
       "      <td>2023</td>\n",
       "      <td>7</td>\n",
       "      <td>2</td>\n",
       "    </tr>\n",
       "    <tr>\n",
       "      <th>636</th>\n",
       "      <td>2022</td>\n",
       "      <td>8</td>\n",
       "      <td>18</td>\n",
       "    </tr>\n",
       "    <tr>\n",
       "      <th>486</th>\n",
       "      <td>2020</td>\n",
       "      <td>7</td>\n",
       "      <td>14</td>\n",
       "    </tr>\n",
       "    <tr>\n",
       "      <th>96</th>\n",
       "      <td>2021</td>\n",
       "      <td>9</td>\n",
       "      <td>3</td>\n",
       "    </tr>\n",
       "    <tr>\n",
       "      <th>761</th>\n",
       "      <td>2022</td>\n",
       "      <td>2</td>\n",
       "      <td>22</td>\n",
       "    </tr>\n",
       "    <tr>\n",
       "      <th>51</th>\n",
       "      <td>2021</td>\n",
       "      <td>6</td>\n",
       "      <td>2</td>\n",
       "    </tr>\n",
       "    <tr>\n",
       "      <th>107</th>\n",
       "      <td>2023</td>\n",
       "      <td>12</td>\n",
       "      <td>3</td>\n",
       "    </tr>\n",
       "    <tr>\n",
       "      <th>666</th>\n",
       "      <td>2022</td>\n",
       "      <td>6</td>\n",
       "      <td>19</td>\n",
       "    </tr>\n",
       "  </tbody>\n",
       "</table>\n",
       "</div>"
      ],
      "text/plain": [
       "     YEAR  MONTH  DAY\n",
       "44   2023      3    2\n",
       "568  2020     10   16\n",
       "56   2023      7    2\n",
       "636  2022      8   18\n",
       "486  2020      7   14\n",
       "96   2021      9    3\n",
       "761  2022      2   22\n",
       "51   2021      6    2\n",
       "107  2023     12    3\n",
       "666  2022      6   19"
      ]
     },
     "execution_count": 35,
     "metadata": {},
     "output_type": "execute_result"
    }
   ],
   "source": [
    "X_test_day[:10]"
   ]
  },
  {
   "cell_type": "code",
   "execution_count": 36,
   "id": "4aada4a5-25fe-4d90-bc51-8269403192b1",
   "metadata": {},
   "outputs": [
    {
     "data": {
      "text/plain": [
       "array([ 871.0726 ,  787.89844,  879.00024, 1001.0668 ,  871.0579 ,\n",
       "        907.2531 ,  919.4171 ,  861.8203 ,  873.6684 ,  910.99994],\n",
       "      dtype=float32)"
      ]
     },
     "execution_count": 36,
     "metadata": {},
     "output_type": "execute_result"
    }
   ],
   "source": [
    "y_pred_day[:10]"
   ]
  },
  {
   "cell_type": "code",
   "execution_count": 39,
   "id": "79676825-93eb-4753-82e9-1df5657c3f23",
   "metadata": {},
   "outputs": [],
   "source": [
    "new_df = X_test_day.assign(CONSUMPTION = y_pred_day)"
   ]
  },
  {
   "cell_type": "code",
   "execution_count": 40,
   "id": "3be7f8bd-9188-4f23-831f-ae10612d6b53",
   "metadata": {},
   "outputs": [
    {
     "data": {
      "text/html": [
       "<div>\n",
       "<style scoped>\n",
       "    .dataframe tbody tr th:only-of-type {\n",
       "        vertical-align: middle;\n",
       "    }\n",
       "\n",
       "    .dataframe tbody tr th {\n",
       "        vertical-align: top;\n",
       "    }\n",
       "\n",
       "    .dataframe thead th {\n",
       "        text-align: right;\n",
       "    }\n",
       "</style>\n",
       "<table border=\"1\" class=\"dataframe\">\n",
       "  <thead>\n",
       "    <tr style=\"text-align: right;\">\n",
       "      <th></th>\n",
       "      <th>YEAR</th>\n",
       "      <th>MONTH</th>\n",
       "      <th>DAY</th>\n",
       "      <th>CONSUMPTION</th>\n",
       "    </tr>\n",
       "  </thead>\n",
       "  <tbody>\n",
       "    <tr>\n",
       "      <th>44</th>\n",
       "      <td>2023</td>\n",
       "      <td>3</td>\n",
       "      <td>2</td>\n",
       "      <td>871.072571</td>\n",
       "    </tr>\n",
       "    <tr>\n",
       "      <th>568</th>\n",
       "      <td>2020</td>\n",
       "      <td>10</td>\n",
       "      <td>16</td>\n",
       "      <td>787.898438</td>\n",
       "    </tr>\n",
       "    <tr>\n",
       "      <th>56</th>\n",
       "      <td>2023</td>\n",
       "      <td>7</td>\n",
       "      <td>2</td>\n",
       "      <td>879.000244</td>\n",
       "    </tr>\n",
       "    <tr>\n",
       "      <th>636</th>\n",
       "      <td>2022</td>\n",
       "      <td>8</td>\n",
       "      <td>18</td>\n",
       "      <td>1001.066772</td>\n",
       "    </tr>\n",
       "    <tr>\n",
       "      <th>486</th>\n",
       "      <td>2020</td>\n",
       "      <td>7</td>\n",
       "      <td>14</td>\n",
       "      <td>871.057922</td>\n",
       "    </tr>\n",
       "    <tr>\n",
       "      <th>...</th>\n",
       "      <td>...</td>\n",
       "      <td>...</td>\n",
       "      <td>...</td>\n",
       "      <td>...</td>\n",
       "    </tr>\n",
       "    <tr>\n",
       "      <th>757</th>\n",
       "      <td>2021</td>\n",
       "      <td>1</td>\n",
       "      <td>22</td>\n",
       "      <td>897.334412</td>\n",
       "    </tr>\n",
       "    <tr>\n",
       "      <th>713</th>\n",
       "      <td>2021</td>\n",
       "      <td>10</td>\n",
       "      <td>20</td>\n",
       "      <td>873.089417</td>\n",
       "    </tr>\n",
       "    <tr>\n",
       "      <th>365</th>\n",
       "      <td>2022</td>\n",
       "      <td>2</td>\n",
       "      <td>11</td>\n",
       "      <td>811.608643</td>\n",
       "    </tr>\n",
       "    <tr>\n",
       "      <th>299</th>\n",
       "      <td>2022</td>\n",
       "      <td>4</td>\n",
       "      <td>9</td>\n",
       "      <td>966.237427</td>\n",
       "    </tr>\n",
       "    <tr>\n",
       "      <th>286</th>\n",
       "      <td>2021</td>\n",
       "      <td>12</td>\n",
       "      <td>8</td>\n",
       "      <td>1137.202393</td>\n",
       "    </tr>\n",
       "  </tbody>\n",
       "</table>\n",
       "<p>220 rows × 4 columns</p>\n",
       "</div>"
      ],
      "text/plain": [
       "     YEAR  MONTH  DAY  CONSUMPTION\n",
       "44   2023      3    2   871.072571\n",
       "568  2020     10   16   787.898438\n",
       "56   2023      7    2   879.000244\n",
       "636  2022      8   18  1001.066772\n",
       "486  2020      7   14   871.057922\n",
       "..    ...    ...  ...          ...\n",
       "757  2021      1   22   897.334412\n",
       "713  2021     10   20   873.089417\n",
       "365  2022      2   11   811.608643\n",
       "299  2022      4    9   966.237427\n",
       "286  2021     12    8  1137.202393\n",
       "\n",
       "[220 rows x 4 columns]"
      ]
     },
     "execution_count": 40,
     "metadata": {},
     "output_type": "execute_result"
    }
   ],
   "source": [
    "new_df"
   ]
  },
  {
   "cell_type": "code",
   "execution_count": 45,
   "id": "be56a099-b53c-4fbb-812b-e192a0ba2308",
   "metadata": {},
   "outputs": [],
   "source": [
    "# for key, value in new_df.iterrows():\n",
    "#     print(row, int(value['YEAR']))"
   ]
  },
  {
   "cell_type": "markdown",
   "id": "c368b296-ad57-4d24-b8a7-71557e2a0384",
   "metadata": {},
   "source": [
    "#### TEST FOR HOUR"
   ]
  },
  {
   "cell_type": "code",
   "execution_count": 53,
   "id": "9d16cd62-de55-4205-a38b-178b7c6ea51e",
   "metadata": {},
   "outputs": [],
   "source": [
    "input_for_24_hour = dt.now()"
   ]
  },
  {
   "cell_type": "code",
   "execution_count": 54,
   "id": "44b28070-1135-47d3-aa4e-eb0223b1d08a",
   "metadata": {},
   "outputs": [
    {
     "data": {
      "text/plain": [
       "datetime.datetime(2023, 6, 18, 17, 54, 25, 256793)"
      ]
     },
     "execution_count": 54,
     "metadata": {},
     "output_type": "execute_result"
    }
   ],
   "source": [
    "input_for_24_hour"
   ]
  },
  {
   "cell_type": "code",
   "execution_count": 64,
   "id": "910f68e8-7939-46aa-9908-8fc6213f6b93",
   "metadata": {},
   "outputs": [],
   "source": [
    "year = input_for_24_hour.year\n",
    "month = input_for_24_hour.month\n",
    "day=input_for_24_hour.day\n",
    "hour=input_for_24_hour.hour"
   ]
  },
  {
   "cell_type": "code",
   "execution_count": 65,
   "id": "7eb6218c-10b9-4c09-85c3-3bba255edb04",
   "metadata": {},
   "outputs": [
    {
     "data": {
      "text/plain": [
       "17"
      ]
     },
     "execution_count": 65,
     "metadata": {},
     "output_type": "execute_result"
    }
   ],
   "source": [
    "hour"
   ]
  },
  {
   "cell_type": "code",
   "execution_count": 66,
   "id": "417638a9-97b9-422c-b5be-144376cd0df5",
   "metadata": {},
   "outputs": [
    {
     "data": {
      "text/plain": [
       "int"
      ]
     },
     "execution_count": 66,
     "metadata": {},
     "output_type": "execute_result"
    }
   ],
   "source": [
    "type(hour)"
   ]
  },
  {
   "cell_type": "code",
   "execution_count": 78,
   "id": "45fbebf3-3ab5-4ccb-aa1f-665ffbcf63e0",
   "metadata": {},
   "outputs": [],
   "source": [
    "## range will be an input from end user"
   ]
  },
  {
   "cell_type": "code",
   "execution_count": 81,
   "id": "eb9c73f0-386f-421b-9f8f-ad946a5367d4",
   "metadata": {},
   "outputs": [
    {
     "name": "stdout",
     "output_type": "stream",
     "text": [
      "[[2023, 6, 23, 18], [2023, 6, 23, 19], [2023, 6, 23, 20], [2023, 6, 23, 21], [2023, 6, 23, 22], [2023, 6, 23, 23], [2023, 6, 23, 0], [2023, 6, 23, 1], [2023, 6, 23, 2], [2023, 6, 23, 3], [2023, 6, 23, 4], [2023, 6, 23, 5], [2023, 6, 23, 6], [2023, 6, 23, 7], [2023, 6, 23, 8], [2023, 6, 23, 9], [2023, 6, 23, 10], [2023, 6, 23, 11], [2023, 6, 23, 12], [2023, 6, 23, 13], [2023, 6, 23, 14], [2023, 6, 23, 15], [2023, 6, 23, 16], [2023, 6, 23, 17]]\n",
      "24\n"
     ]
    }
   ],
   "source": [
    "row_list_hour = []\n",
    "for i in range(24):\n",
    "    hour = hour +1\n",
    "    row = [year,month,day,hour]\n",
    "    if int(hour) == 24:\n",
    "        hour = 0\n",
    "        row = [year,month,day,hour]\n",
    "    row_list_hour.append(row)\n",
    "print(row_list_hour)\n",
    "print(len(row_list_hour))"
   ]
  },
  {
   "cell_type": "code",
   "execution_count": 94,
   "id": "fdcfd401-dc08-41dc-af9c-4b0ad917db4b",
   "metadata": {},
   "outputs": [],
   "source": [
    "df_pred_hours = pd.DataFrame(data=row_list_hour , columns = [\"YEAR\", \"MONTH\", \"DAY\", \"HOUR\"])"
   ]
  },
  {
   "cell_type": "code",
   "execution_count": 95,
   "id": "7a406596-470c-4b39-a656-f5c755defaaa",
   "metadata": {},
   "outputs": [],
   "source": [
    "pred_hour = pipeline_hour.predict(df_pred_hours)"
   ]
  },
  {
   "cell_type": "code",
   "execution_count": 96,
   "id": "5f6e8cfa-794a-4f01-be4d-2b652bbc224d",
   "metadata": {},
   "outputs": [
    {
     "data": {
      "text/plain": [
       "array([39.083347, 38.75528 , 39.044403, 38.5382  , 37.432568, 35.840336,\n",
       "       33.80017 , 32.27113 , 30.921711, 30.102102, 30.108494, 29.397594,\n",
       "       29.786331, 31.639996, 36.59574 , 38.550808, 40.06878 , 40.67454 ,\n",
       "       39.255787, 39.770035, 39.406483, 39.63416 , 38.826714, 39.02807 ],\n",
       "      dtype=float32)"
      ]
     },
     "execution_count": 96,
     "metadata": {},
     "output_type": "execute_result"
    }
   ],
   "source": [
    "pred_hour"
   ]
  },
  {
   "cell_type": "code",
   "execution_count": 126,
   "id": "2ea81248-3299-4029-a104-8a27d7813941",
   "metadata": {},
   "outputs": [
    {
     "data": {
      "text/plain": [
       "numpy.ndarray"
      ]
     },
     "execution_count": 126,
     "metadata": {},
     "output_type": "execute_result"
    }
   ],
   "source": [
    "type(pred_hour)"
   ]
  },
  {
   "cell_type": "markdown",
   "id": "31077f01-1199-47de-bbce-d8c2430ebe9e",
   "metadata": {},
   "source": [
    "#### TEST FOR DAYS"
   ]
  },
  {
   "cell_type": "code",
   "execution_count": 85,
   "id": "b0d6628d-92b5-4c4e-8828-54f13c991f43",
   "metadata": {},
   "outputs": [],
   "source": [
    "input_for_days = dt.now()"
   ]
  },
  {
   "cell_type": "code",
   "execution_count": 86,
   "id": "1f04cfec-cbd6-47dd-b65d-b88c4524dc58",
   "metadata": {},
   "outputs": [],
   "source": [
    "year = input_for_24_hour.year\n",
    "month = input_for_24_hour.month\n",
    "day=input_for_24_hour.day"
   ]
  },
  {
   "cell_type": "code",
   "execution_count": 87,
   "id": "316228f4-89cb-4097-a9b5-8680fe7b3f65",
   "metadata": {},
   "outputs": [],
   "source": [
    "## range will be an input from end user"
   ]
  },
  {
   "cell_type": "code",
   "execution_count": 88,
   "id": "4a3036d1-f451-44d0-8535-9e3004c68c69",
   "metadata": {},
   "outputs": [],
   "source": [
    "range_from_user = 5"
   ]
  },
  {
   "cell_type": "code",
   "execution_count": 89,
   "id": "50ba251e-9ca8-40ff-aa32-819408740d54",
   "metadata": {},
   "outputs": [
    {
     "name": "stdout",
     "output_type": "stream",
     "text": [
      "0\n",
      "1\n",
      "2\n",
      "3\n",
      "4\n",
      "[[2023, 6, 19], [2023, 6, 20], [2023, 6, 21], [2023, 6, 22], [2023, 6, 23]]\n",
      "5\n"
     ]
    }
   ],
   "source": [
    "row_list_day = []\n",
    "for i in range(5):\n",
    "    print(i)\n",
    "    day = day +1\n",
    "    row = [year,month,day]\n",
    "    if int(hour) == 24:\n",
    "        hour = 0\n",
    "        row = [year,month,day]\n",
    "    row_list_day.append(row)\n",
    "print(row_list_day)\n",
    "print(len(row_list_day))"
   ]
  },
  {
   "cell_type": "code",
   "execution_count": 97,
   "id": "2692f01b-ccae-4f35-9335-abbe0de5839b",
   "metadata": {},
   "outputs": [],
   "source": [
    "df_pred_days = pd.DataFrame(data=row_list_day , columns = [\"YEAR\", \"MONTH\", \"DAY\"])"
   ]
  },
  {
   "cell_type": "code",
   "execution_count": 100,
   "id": "26d25999-8db8-4745-9ed3-573ca6723551",
   "metadata": {},
   "outputs": [],
   "source": [
    "pred_days = pipeline_day.predict(df_pred_days)"
   ]
  },
  {
   "cell_type": "code",
   "execution_count": 101,
   "id": "bf911355-c789-4abd-95a6-a72b25b70412",
   "metadata": {},
   "outputs": [
    {
     "data": {
      "text/plain": [
       "array([792.3908 , 818.09186, 805.2938 , 795.6999 , 849.51807],\n",
       "      dtype=float32)"
      ]
     },
     "execution_count": 101,
     "metadata": {},
     "output_type": "execute_result"
    }
   ],
   "source": [
    "pred_days"
   ]
  },
  {
   "cell_type": "code",
   "execution_count": null,
   "id": "9b2818b6-ce35-4077-8619-27883dfc582f",
   "metadata": {},
   "outputs": [],
   "source": []
  },
  {
   "cell_type": "markdown",
   "id": "c3f402d0-9c1a-4f00-9442-77f79a996685",
   "metadata": {},
   "source": [
    "#### MLFLOW"
   ]
  },
  {
   "cell_type": "code",
   "execution_count": 107,
   "id": "40c2627e-9331-45a2-a201-0f2882782274",
   "metadata": {},
   "outputs": [],
   "source": [
    "os.environ['MLFLOW_TRACKING_URI'] = 'http://192.168.1.41:5000/'\n",
    "os.environ['MLFLOW_S3_ENDPOINT_URL'] = 'http://192.168.1.41:9000/'"
   ]
  },
  {
   "cell_type": "code",
   "execution_count": 108,
   "id": "93dc2ceb-52f3-4b98-b683-af8a8dade444",
   "metadata": {},
   "outputs": [
    {
     "name": "stderr",
     "output_type": "stream",
     "text": [
      "2023/06/18 18:12:48 INFO mlflow.tracking.fluent: Experiment with name 'EpiasHour' does not exist. Creating a new experiment.\n",
      "2023/06/18 18:12:48 INFO mlflow.tracking.fluent: Experiment with name 'EpiasDay' does not exist. Creating a new experiment.\n"
     ]
    }
   ],
   "source": [
    "experiment_list = [\"EpiasHour\", \"EpiasDay\"]\n",
    "\n",
    "for exp in experiment_list:\n",
    "    if mlflow.get_experiment_by_name(exp):\n",
    "        pass\n",
    "    else:\n",
    "        mlflow.set_experiment(exp)"
   ]
  },
  {
   "cell_type": "code",
   "execution_count": 109,
   "id": "e60a244d-ab65-48ad-806c-32bb9b570287",
   "metadata": {},
   "outputs": [],
   "source": [
    "client = MlflowClient()\n",
    "exp_id_hour = client.get_experiment_by_name(\"EpiasHour\")._experiment_id\n",
    "exp_id_day = client.get_experiment_by_name(\"EpiasDay\")._experiment_id"
   ]
  },
  {
   "cell_type": "code",
   "execution_count": 110,
   "id": "675bb3e0-17ac-49ac-9565-eea80a32e910",
   "metadata": {},
   "outputs": [
    {
     "data": {
      "text/plain": [
       "'1'"
      ]
     },
     "execution_count": 110,
     "metadata": {},
     "output_type": "execute_result"
    }
   ],
   "source": [
    "exp_id_hour"
   ]
  },
  {
   "cell_type": "code",
   "execution_count": 111,
   "id": "c5990676-b5e1-4955-bbe4-2941a123fa44",
   "metadata": {},
   "outputs": [
    {
     "data": {
      "text/plain": [
       "'2'"
      ]
     },
     "execution_count": 111,
     "metadata": {},
     "output_type": "execute_result"
    }
   ],
   "source": [
    "exp_id_day "
   ]
  },
  {
   "cell_type": "code",
   "execution_count": 123,
   "id": "a55a9bf8-cfc8-469d-b1a9-d7c9604783e9",
   "metadata": {},
   "outputs": [],
   "source": [
    "def eval_metrics(actual, pred):\n",
    "    rmse = np.sqrt(mean_squared_error(actual, pred))\n",
    "    mae = mean_absolute_error(actual, pred)\n",
    "    r2 = r2_score(actual, pred)\n",
    "    return rmse, mae, r2"
   ]
  },
  {
   "cell_type": "code",
   "execution_count": null,
   "id": "d21617f3-e924-49c3-9bd3-c6feed4d5821",
   "metadata": {},
   "outputs": [],
   "source": [
    "##### MLFLOW MODEL FOR HOURLY CONSUMPTION"
   ]
  },
  {
   "cell_type": "code",
   "execution_count": 124,
   "id": "c869ccc6-db3f-4be9-b788-c7414984456b",
   "metadata": {},
   "outputs": [
    {
     "name": "stdout",
     "output_type": "stream",
     "text": [
      "[42.043766 38.162037 35.832676 37.345707 38.103832 40.650043 40.043285\n",
      " 31.803995 38.238136 27.080324]\n"
     ]
    },
    {
     "name": "stderr",
     "output_type": "stream",
     "text": [
      "/home/train/miniconda3/envs/fastapi/lib/python3.8/site-packages/_distutils_hack/__init__.py:33: UserWarning: Setuptools is replacing distutils.\n",
      "  warnings.warn(\"Setuptools is replacing distutils.\")\n"
     ]
    }
   ],
   "source": [
    "with mlflow.start_run(run_name=\"XGReg_Hourly_Consump\", experiment_id=exp_id_hour) as run:\n",
    "    pipeline_hour = Pipeline([\n",
    "        ('ct-ohe', ColumnTransformer([('ct', OneHotEncoder(handle_unknown='ignore', categories='auto'), [0, 1, 2, 3])], remainder='passthrough')),\n",
    "        ('scaler', StandardScaler(with_mean=False)),\n",
    "        ('estimator', TransformedTargetRegressor(regressor=xgboost.XGBRegressor(), transformer=StandardScaler()))\n",
    "    ])\n",
    "\n",
    "    # Fit the pipeline\n",
    "    pipeline_hour.fit(X_train_hour, y_train_hour)\n",
    "    y_pred_hour = pipeline_hour.predict(X_test_hour)\n",
    "    print(y_pred_hour[:10])\n",
    "\n",
    "    (rmse, mae, r2) = eval_metrics(y_test_hour, y_pred_hour)\n",
    "\n",
    "    # mlflow.log_param(\"\")\n",
    "    mlflow.log_metric(\"rmse\", rmse)\n",
    "    mlflow.log_metric(\"r2\", r2)\n",
    "    mlflow.log_metric(\"mae\", mae)\n",
    "\n",
    "    tracking_url_type_store = urlparse(mlflow.get_tracking_uri()).scheme\n",
    "\n",
    "    # Model registry does not work with file store\n",
    "    if tracking_url_type_store != \"file\" :\n",
    "        mlflow.sklearn.log_model(pipeline_hour, \"model\")\n",
    "        # mlflow.sklearn.log_model(estimator, \"model\",registered_model_name=registered_model_name)\n",
    "    else:\n",
    "        mlflow.sklearn.log_model(pipeline_hour, \"model\")"
   ]
  },
  {
   "cell_type": "code",
   "execution_count": 125,
   "id": "1e9f6623-5b8b-4860-8d8f-f4a3d3fcc29f",
   "metadata": {},
   "outputs": [
    {
     "name": "stdout",
     "output_type": "stream",
     "text": [
      "[ 871.0726   787.89844  879.00024 1001.0668   871.0579   907.2531\n",
      "  919.4171   861.8203   873.6684   910.99994]\n"
     ]
    }
   ],
   "source": [
    "with mlflow.start_run(run_name=\"XGReg_Daily_Consump\", experiment_id=exp_id_day) as run:\n",
    "    pipeline_day = Pipeline([\n",
    "        ('ct-ohe', ColumnTransformer([('ct', OneHotEncoder(handle_unknown='ignore', categories='auto'), [0, 1, 2])], remainder='passthrough')),\n",
    "        ('scaler', StandardScaler(with_mean=False)),\n",
    "        ('estimator', TransformedTargetRegressor(regressor=xgboost.XGBRegressor(), transformer=StandardScaler()))\n",
    "    ])\n",
    "\n",
    "    # Fit the pipeline\n",
    "    pipeline_day.fit(X_train_day, y_train_day)\n",
    "    y_pred_day = pipeline_day.predict(X_test_day)\n",
    "    print(y_pred_day[:10])\n",
    "\n",
    "    (rmse, mae, r2) = eval_metrics(y_test_hour, y_pred_hour)\n",
    "\n",
    "    # mlflow.log_param(\"\")\n",
    "    mlflow.log_metric(\"rmse\", rmse)\n",
    "    mlflow.log_metric(\"r2\", r2)\n",
    "    mlflow.log_metric(\"mae\", mae)\n",
    "\n",
    "    tracking_url_type_store = urlparse(mlflow.get_tracking_uri()).scheme\n",
    "\n",
    "    # Model registry does not work with file store\n",
    "    if tracking_url_type_store != \"file\" :\n",
    "        mlflow.sklearn.log_model(pipeline_day, \"model\")\n",
    "        # mlflow.sklearn.log_model(estimator, \"model\",registered_model_name=registered_model_name)\n",
    "    else:\n",
    "        mlflow.sklearn.log_model(pipeline_day, \"model\")"
   ]
  },
  {
   "cell_type": "code",
   "execution_count": null,
   "id": "28aa1016-c7a0-4b83-9cd4-f4ecc395c261",
   "metadata": {},
   "outputs": [],
   "source": []
  }
 ],
 "metadata": {
  "kernelspec": {
   "display_name": "fastapi-3.6",
   "language": "python",
   "name": "fastapi-3.6"
  },
  "language_info": {
   "codemirror_mode": {
    "name": "ipython",
    "version": 3
   },
   "file_extension": ".py",
   "mimetype": "text/x-python",
   "name": "python",
   "nbconvert_exporter": "python",
   "pygments_lexer": "ipython3",
   "version": "3.6.13"
  }
 },
 "nbformat": 4,
 "nbformat_minor": 5
}
